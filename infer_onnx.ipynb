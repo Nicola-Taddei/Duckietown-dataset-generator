{
 "cells": [
  {
   "cell_type": "code",
   "execution_count": 23,
   "metadata": {},
   "outputs": [],
   "source": [
    "import cv2\n",
    "import numpy as np\n",
    "from PIL import Image\n",
    "\n",
    "image_num=\"000072\"\n",
    "img_file = f\"logs.bak/segmentation_results/{image_num}_image.png\"\n",
    "#img = cv2.imread().astype(np.float32)\n",
    "img = Image.open(img_file)\n",
    "np_img = np.asarray(img)\n",
    "np_img = np_img.reshape((1,*np_img.shape))"
   ]
  },
  {
   "cell_type": "code",
   "execution_count": 24,
   "metadata": {},
   "outputs": [
    {
     "data": {
      "text/plain": [
       "(1, 120, 160, 3)"
      ]
     },
     "execution_count": 24,
     "metadata": {},
     "output_type": "execute_result"
    }
   ],
   "source": [
    "np_img.shape"
   ]
  },
  {
   "cell_type": "code",
   "execution_count": 25,
   "metadata": {},
   "outputs": [
    {
     "name": "stdout",
     "output_type": "stream",
     "text": [
      "Average frame rate: 32.75561428334911\n"
     ]
    }
   ],
   "source": [
    "import onnxruntime as ort\n",
    "sess_ort = ort.InferenceSession(\"./output/segmentation.onnx\")\n",
    "import time\n",
    "start = time.time()\n",
    "qty = 10\n",
    "for i in range(0,10):\n",
    "    res = sess_ort.run(output_names=[\"output:0\"], input_feed={\"input_rgb:0\": np_img.astype(np.float32)})\n",
    "end = time.time()\n",
    "delta=end-start\n",
    "seg = res[0].astype(np.uint8).reshape(120,160)\n",
    "print(f\"Average frame rate: {1/(delta/qty)}\")\n"
   ]
  },
  {
   "cell_type": "code",
   "execution_count": 26,
   "metadata": {},
   "outputs": [
    {
     "data": {
      "text/plain": [
       "(120, 160)"
      ]
     },
     "execution_count": 26,
     "metadata": {},
     "output_type": "execute_result"
    }
   ],
   "source": [
    "seg.shape"
   ]
  },
  {
   "cell_type": "code",
   "execution_count": null,
   "metadata": {},
   "outputs": [],
   "source": []
  },
  {
   "cell_type": "code",
   "execution_count": 27,
   "metadata": {},
   "outputs": [
    {
     "data": {
      "text/plain": [
       "<matplotlib.image.AxesImage at 0x7fb07b137278>"
      ]
     },
     "execution_count": 27,
     "metadata": {},
     "output_type": "execute_result"
    },
    {
     "data": {
      "image/png": "[encoded data removed]",
      "text/plain": [
       "<Figure size 432x288 with 1 Axes>"
      ]
     },
     "metadata": {
      "needs_background": "light"
     },
     "output_type": "display_data"
    }
   ],
   "source": [
    "from cv2_plt_imshow import cv2_plt_imshow\n",
    "#seg = cv2.imread(f\"logs/segmentation_results/{image_num}_raw_prediction.png\",cv2.IMREAD_GRAYSCALE)\n",
    "#seg = cv2.transpose(seg.astype(np.uint8).reshape(160,120))\n",
    "yellow = (seg==1).astype(np.uint8)\n",
    "white = (seg==2).astype(np.uint8)\n",
    "cv2_plt_imshow(cv2.applyColorMap(seg*64, cv2.COLORMAP_JET))"
   ]
  },
  {
   "cell_type": "code",
   "execution_count": 29,
   "metadata": {},
   "outputs": [
    {
     "data": {
      "text/plain": [
       "<matplotlib.image.AxesImage at 0x7fb07b09bb70>"
      ]
     },
     "execution_count": 29,
     "metadata": {},
     "output_type": "execute_result"
    },
    {
     "data": {
      "image/png": "[encoded data removed]",
      "text/plain": [
       "<Figure size 432x288 with 1 Axes>"
      ]
     },
     "metadata": {
      "needs_background": "light"
     },
     "output_type": "display_data"
    }
   ],
   "source": [
    "from cv2_plt_imshow import cv2_plt_imshow\n",
    "seg = cv2.imread(f\"logs.bak/segmentation_results/{image_num}_raw_prediction.png\",cv2.IMREAD_GRAYSCALE)\n",
    "#eg = seg.astype(np.uint8).reshape(120,160)\n",
    "yellow = (seg==1).astype(np.uint8)\n",
    "white = (seg==2).astype(np.uint8)\n",
    "cv2_plt_imshow(cv2.applyColorMap(seg*64, cv2.COLORMAP_JET))"
   ]
  },
  {
   "cell_type": "code",
   "execution_count": null,
   "metadata": {},
   "outputs": [],
   "source": []
  }
 ],
 "metadata": {
  "kernelspec": {
   "display_name": "Python 3",
   "language": "python",
   "name": "python3"
  },
  "language_info": {
   "codemirror_mode": {
    "name": "ipython",
    "version": 3
   },
   "file_extension": ".py",
   "mimetype": "text/x-python",
   "name": "python",
   "nbconvert_exporter": "python",
   "pygments_lexer": "ipython3",
   "version": "3.6.12"
  }
 },
 "nbformat": 4,
 "nbformat_minor": 4
}

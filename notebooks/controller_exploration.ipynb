{
 "cells": [
  {
   "cell_type": "code",
   "execution_count": 3,
   "metadata": {},
   "outputs": [],
   "source": [
    "import glob\n"
   ]
  },
  {
   "cell_type": "code",
   "execution_count": 4,
   "metadata": {},
   "outputs": [
    {
     "name": "stdout",
     "output_type": "stream",
     "text": [
      "controller_exploration.ipynb  duckie_to_coco_bezier.ipynb  output\r\n",
      "detectron2_duckie.ipynb       duckie_to_coco.ipynb\t   __pycache__\r\n",
      "duckie_real_train.json\t      input.jpg\t\t\t   README.md\r\n",
      "duckie_real_val.json\t      merge_coco_datasets.ipynb    utils.py\r\n",
      "duckie_sim_val2.json\t      merged_dataset\r\n"
     ]
    }
   ],
   "source": [
    "!ls"
   ]
  },
  {
   "cell_type": "code",
   "execution_count": 5,
   "metadata": {},
   "outputs": [],
   "source": [
    "json_files = glob.glob(\"../solution/exercise_ws/datalog/*.json\")"
   ]
  },
  {
   "cell_type": "code",
   "execution_count": 6,
   "metadata": {},
   "outputs": [],
   "source": [
    "import json\n",
    "with open(json_files[0]) as f:\n",
    "    data = json.load(f)\n",
    "    "
   ]
  },
  {
   "cell_type": "code",
   "execution_count": 7,
   "metadata": {},
   "outputs": [
    {
     "data": {
      "text/plain": [
       "{'white': [[[0.5684783137644999, -0.06138166862588269],\n",
       "   [0.5231590882309906, -0.2866465247018372]]],\n",
       " 'yellow': [[[0.1944266551323723, 0.19022132370630465],\n",
       "   [0.1909799123421903, 0.1893387682271845]],\n",
       "  [[0.19147555290789747, 0.20556691494868395],\n",
       "   [0.18492557419408556, 0.2032578468105979]],\n",
       "  [[0.18510143102153054, 0.2095445954053378],\n",
       "   [0.18200459053965143, 0.20833277294584732]],\n",
       "  [[0.18208735300978754, 0.21142548808606634],\n",
       "   [0.17902498024379318, 0.20716682374756676]],\n",
       "  [[0.1785631638855626, 0.18912224615684894],\n",
       "   [0.18159379493706146, 0.19298192880627535]],\n",
       "  [[0.184663422807754, 0.1938861329933145],\n",
       "   [0.18423080713617926, 0.17842044988706304]],\n",
       "  [[0.19068557542487222, 0.1797016581714802],\n",
       "   [0.19078343605878048, 0.18290578800910798]],\n",
       "  [[0.22014533522033608, 0.1262900292404056],\n",
       "   [0.21135218013892507, 0.12720914465879637]],\n",
       "  [[0.2114905081945375, 0.13069807692672566],\n",
       "   [0.20737516132466297, 0.1310511013399357]],\n",
       "  [[0.20816013544168907, 0.1517290329785236],\n",
       "   [0.20417253543970124, 0.15162048134397288]],\n",
       "  [[0.20466958901611126, 0.16529485871044575],\n",
       "   [0.20058672877974915, 0.1581892336514032]],\n",
       "  [[0.19680411205639306, 0.15467919770444133],\n",
       "   [0.1964788257445675, 0.14491816458425846]],\n",
       "  [[0.20012349043681124, 0.14487971520082718],\n",
       "   [0.19989373330870006, 0.1382784552179995]],\n",
       "  [[0.20368092487397008, 0.1380958459481119],\n",
       "   [0.2028334372642778, 0.11478072271322057]],\n",
       "  [[0.20685910571093916, 0.1174570700580955],\n",
       "   [0.2109395505153259, 0.11680173451986588]],\n",
       "  [[0.21066640956714522, 0.10991252998661914],\n",
       "   [0.2149151424437111, 0.10907186937195568]],\n",
       "  [[0.2146251010483593, 0.1020680007242785],\n",
       "   [0.21905249626396714, 0.1010274856233549]],\n",
       "  [[0.2593898010401318, 0.02259842852529568],\n",
       "   [0.2527956023725588, 0.021944180640221682]],\n",
       "  [[0.24109281462615115, 0.028343257994643812],\n",
       "   [0.24129900426810863, 0.0321622577835953]],\n",
       "  [[0.23587269644410885, 0.035030914271515404],\n",
       "   [0.23606574773442485, 0.038770835415933964]],\n",
       "  [[0.2352972005692039, 0.02388201603022589],\n",
       "   [0.2467902312984958, 0.02522791395895458]],\n",
       "  [[0.2527956023725588, 0.021944180640221682],\n",
       "   [0.25162055371453473, 0.002074685153093282]],\n",
       "  [[0.25787188965884844, -0.0019083228150073477],\n",
       "   [0.2576219886778713, -0.0059429860213190185]],\n",
       "  [[0.28441232088732793, -0.051419254423294335],\n",
       "   [0.2764122859969563, -0.04980805643591321]],\n",
       "  [[0.2755068176704932, -0.06248640431692461],\n",
       "   [0.28310704729502084, -0.06882336514772529]],\n",
       "  [[0.31184724675869274, -0.1734876188078189],\n",
       "   [0.31101743342509863, -0.18250183927372265]]]}"
      ]
     },
     "execution_count": 7,
     "metadata": {},
     "output_type": "execute_result"
    }
   ],
   "source": [
    "data"
   ]
  },
  {
   "cell_type": "code",
   "execution_count": null,
   "metadata": {},
   "outputs": [],
   "source": []
  },
  {
   "cell_type": "code",
   "execution_count": 8,
   "metadata": {},
   "outputs": [],
   "source": [
    "import matplotlib.pyplot as plt\n",
    "%matplotlib inline"
   ]
  },
  {
   "cell_type": "code",
   "execution_count": null,
   "metadata": {},
   "outputs": [],
   "source": []
  },
  {
   "cell_type": "code",
   "execution_count": 61,
   "metadata": {},
   "outputs": [],
   "source": [
    "    \n",
    "from scipy.optimize import curve_fit\n",
    "import numpy as np\n",
    "\n",
    "def get_xy(points):\n",
    "    x = []\n",
    "    y = []\n",
    "    for point in points:\n",
    "        x.append(point[0][0])\n",
    "        x.append(point[1][0])\n",
    "        y.append(point[0][1])\n",
    "        y.append(point[1][1])\n",
    "    return (x,y)\n",
    "\n",
    "def fit_and_show(x,y, c=\"b\"):\n",
    "    a,b = fit(x,y)\n",
    "    show_line(a,b,c)\n",
    "    return a,b\n",
    "\n",
    "\n",
    "def fit(x,y, c=\"b\"):\n",
    "    if len(x)>3:\n",
    "        popt, pcov = curve_fit(line_func, x, y)\n",
    "        return popt\n",
    "    else:\n",
    "        raise ValueError(\"Not enough data points\")\n",
    "\n",
    "        \n",
    "def line_func(x, a, b):\n",
    "    #return a * np.exp(-b * x) + c\n",
    "    #return a * x**2 + b*x + c\n",
    "    return a*x + b\n",
    "\n",
    "def show_line(a,b,c):\n",
    "    model_x = np.arange(0,1,0.01)\n",
    "    model_y = line_func(model_x, a,b)\n",
    "    plt.plot(model_x, model_y, c)\n",
    "\n",
    "def get_aim_point(a,b, dist, offset):\n",
    "    x, y = dist,dist*a+b-offset\n",
    "    return (x,y)\n",
    "    \n",
    "last_aim_point = (0,0.2)\n",
    "\n",
    "def show_json(filename, offset=None, dist=None):\n",
    "    global last_aim_point\n",
    "    if offset:\n",
    "        offset = offset\n",
    "    else:\n",
    "        offset = 0.12\n",
    "    if dist:\n",
    "        dist=dist\n",
    "    else:\n",
    "        dist = 0.2\n",
    "    with open(filename) as f:\n",
    "        data = json.load(f)\n",
    "    \n",
    "    x, y = get_xy(data[\"yellow\"])\n",
    "    plt.scatter(x,y, c=\"y\")\n",
    "    yellow_aim_point = None\n",
    "    white_aim_point = None\n",
    "    try:\n",
    "        a,b = fit_and_show(x,y, \"y\")\n",
    "    \n",
    "        yellow_aim_point = get_aim_point(a,b,dist,offset)\n",
    "        plt.scatter(*yellow_aim_point, marker=\"X\", c=\"y\")\n",
    "    except ValueError:\n",
    "        pass\n",
    "    \n",
    "    try:\n",
    "        x, y = get_xy(data[\"white\"])\n",
    "        x_right=[]\n",
    "        y_right=[]\n",
    "        if yellow_aim_point:\n",
    "            print(\"bli\")\n",
    "            print(a,b)\n",
    "            for xval,yval in zip(x,y):\n",
    "                if yval < float(a)*xval+float(b):\n",
    "                    x_right.append(xval)\n",
    "                    y_right.append(yval)\n",
    "        else:\n",
    "            x_right = x\n",
    "            y_right = y\n",
    "\n",
    "        plt.scatter(x_right,y_right, c=\"k\")\n",
    "        a,b = fit_and_show(x_right,y_right, \"k\")\n",
    "    \n",
    "        plt.scatter(0,0, marker=\"D\")\n",
    "    \n",
    "        white_aim_point = get_aim_point(a,b,dist,-offset)\n",
    "        plt.scatter(*white_aim_point, marker=\"X\", c=\"k\")\n",
    "    except ValueError:\n",
    "        pass\n",
    "    plt.xlim([0,1])\n",
    "    plt.ylim([-1,1])\n",
    "    \n",
    "    aim_point=None\n",
    "    if yellow_aim_point:\n",
    "        aim_point = yellow_aim_point\n",
    "        if white_aim_point:\n",
    "            aim_point = (\n",
    "                            ((yellow_aim_point[0] + white_aim_point[0]) / 2),\n",
    "                            ((yellow_aim_point[1] + white_aim_point[1]) / 2)\n",
    "            )\n",
    "    else:\n",
    "        aim_point = white_aim_point\n",
    "    \n",
    "    if aim_point is None:\n",
    "        aim_point = last_aim_point\n",
    "    else:\n",
    "        last_aim_point=aim_point\n",
    "            \n",
    "    plt.scatter(*aim_point, marker=\"X\", c=\"r\")\n",
    "    \n",
    "    print(yellow_aim_point, white_aim_point, aim_point)\n",
    "    \n",
    "    "
   ]
  },
  {
   "cell_type": "code",
   "execution_count": 62,
   "metadata": {},
   "outputs": [],
   "source": [
    "#a,b = fit_and_show(x,y, \"y\")\n",
    "#x, y = get_xy(data[\"white\"])"
   ]
  },
  {
   "cell_type": "code",
   "execution_count": null,
   "metadata": {},
   "outputs": [],
   "source": []
  },
  {
   "cell_type": "code",
   "execution_count": null,
   "metadata": {},
   "outputs": [],
   "source": []
  },
  {
   "cell_type": "code",
   "execution_count": 68,
   "metadata": {},
   "outputs": [
    {
     "data": {
      "application/vnd.jupyter.widget-view+json": {
       "model_id": "7210077d21264010a0e056e36cdf73e1",
       "version_major": 2,
       "version_minor": 0
      },
      "text/plain": [
       "interactive(children=(Dropdown(description='x', options=('../solution/exercise_ws/datalog/segments_101.json', …"
      ]
     },
     "metadata": {},
     "output_type": "display_data"
    }
   ],
   "source": [
    "from ipywidgets import interact, interactive, fixed, interact_manual\n",
    "import ipywidgets as widgets\n",
    "i=0\n",
    "@interact(x=sorted(json_files),offset=0.18, dist=0.2)\n",
    "def g(x, offset, dist):\n",
    "    global i\n",
    "    show_json(x, offset, dist)\n",
    "    i=i+1\n",
    "    plt.savefig(f\"animation/img_{i:03d}.png\")"
   ]
  },
  {
   "cell_type": "code",
   "execution_count": null,
   "metadata": {},
   "outputs": [],
   "source": []
  },
  {
   "cell_type": "code",
   "execution_count": null,
   "metadata": {},
   "outputs": [],
   "source": []
  }
 ],
 "metadata": {
  "kernelspec": {
   "display_name": "Python 3",
   "language": "python",
   "name": "python3"
  },
  "language_info": {
   "codemirror_mode": {
    "name": "ipython",
    "version": 3
   },
   "file_extension": ".py",
   "mimetype": "text/x-python",
   "name": "python",
   "nbconvert_exporter": "python",
   "pygments_lexer": "ipython3",
   "version": "3.8.3"
  }
 },
 "nbformat": 4,
 "nbformat_minor": 4
}

{
 "cells": [
  {
   "cell_type": "code",
   "execution_count": 40,
   "metadata": {},
   "outputs": [],
   "source": [
    "import json\n",
    "split = \"val\"\n",
    "with open(f'../dataset/duckietown2/duckie_sim_{split}.json') as json_file:\n",
    "    sim_data = json.load(json_file)\n",
    "with open(f'../dataset/duckietown2/duckie_js_{split}.json') as json_file:\n",
    "    js_data = json.load(json_file)\n",
    "with open(f'../dataset/duckietown2/duckie_real_{split}.json') as json_file:\n",
    "    real_data = json.load(json_file)"
   ]
  },
  {
   "cell_type": "code",
   "execution_count": 41,
   "metadata": {},
   "outputs": [],
   "source": [
    "!mkdir -p merged_dataset\n",
    "!mkdir -p merged_dataset/rgb"
   ]
  },
  {
   "cell_type": "code",
   "execution_count": 42,
   "metadata": {},
   "outputs": [],
   "source": [
    "sim_images = sim_data[\"images\"]"
   ]
  },
  {
   "cell_type": "code",
   "execution_count": 43,
   "metadata": {},
   "outputs": [],
   "source": [
    "js_images = js_data[\"images\"]"
   ]
  },
  {
   "cell_type": "code",
   "execution_count": 44,
   "metadata": {},
   "outputs": [],
   "source": [
    "real_images = real_data[\"images\"]"
   ]
  },
  {
   "cell_type": "code",
   "execution_count": 45,
   "metadata": {},
   "outputs": [
    {
     "data": {
      "text/plain": [
       "(500, 9559, 51)"
      ]
     },
     "execution_count": 45,
     "metadata": {},
     "output_type": "execute_result"
    }
   ],
   "source": [
    "len(js_images), len(sim_images), len(real_images)"
   ]
  },
  {
   "cell_type": "code",
   "execution_count": 46,
   "metadata": {},
   "outputs": [
    {
     "name": "stderr",
     "output_type": "stream",
     "text": [
      "100%|██████████| 500/500 [00:02<00:00, 207.37it/s]\n"
     ]
    }
   ],
   "source": [
    "import shutil\n",
    "from tqdm import tqdm\n",
    "for image in tqdm(js_images):\n",
    "    filename = image[\"file_name\"]\n",
    "    shutil.copy(f\"../dataset/duckietown2/new/wo_bezier/rgb_orig/{filename}\", f\"merged_dataset/rgb/js_{filename}\")\n",
    "    "
   ]
  },
  {
   "cell_type": "code",
   "execution_count": 47,
   "metadata": {},
   "outputs": [
    {
     "name": "stderr",
     "output_type": "stream",
     "text": [
      "100%|██████████| 9559/9559 [00:22<00:00, 427.26it/s] \n"
     ]
    }
   ],
   "source": [
    "for image in tqdm(sim_images):\n",
    "    filename = image[\"file_name\"]\n",
    "    shutil.copy(f\"../dataset/duckietown2/sim/rgb_160_120/{filename}\", f\"merged_dataset/rgb/sim_{filename}\")\n",
    "    "
   ]
  },
  {
   "cell_type": "code",
   "execution_count": 48,
   "metadata": {},
   "outputs": [
    {
     "name": "stderr",
     "output_type": "stream",
     "text": [
      "100%|██████████| 51/51 [00:00<00:00, 6571.72it/s]\n"
     ]
    }
   ],
   "source": [
    "for image in tqdm(real_images):\n",
    "    filename = image[\"file_name\"]\n",
    "    shutil.copy(f\"../dataset/duckietown2/real/imgs/{filename}\", f\"merged_dataset/rgb/real_{filename}\")\n",
    " "
   ]
  },
  {
   "cell_type": "code",
   "execution_count": null,
   "metadata": {},
   "outputs": [],
   "source": []
  },
  {
   "cell_type": "code",
   "execution_count": 49,
   "metadata": {},
   "outputs": [],
   "source": [
    "#Fresh data\n",
    "with open(f'../dataset/duckietown2/duckie_sim_{split}.json') as json_file:\n",
    "    sim_data = json.load(json_file)\n",
    "with open(f'../dataset/duckietown2/duckie_js_{split}.json') as json_file:\n",
    "    js_data = json.load(json_file)\n",
    "with open(f'../dataset/duckietown2/duckie_real_{split}.json') as json_file:\n",
    "    real_data = json.load(json_file)\n"
   ]
  },
  {
   "cell_type": "code",
   "execution_count": 50,
   "metadata": {},
   "outputs": [],
   "source": [
    "merged_images=[]\n",
    "merged_id = 0\n",
    "js_image_mapping = {}\n",
    "sim_image_mapping = {}\n",
    "for image in js_data[\"images\"]:\n",
    "    new_image = image.copy()\n",
    "    new_image[\"file_name\"] = \"js_\" + image[\"file_name\"]\n",
    "    js_image_mapping[image[\"id\"]] = merged_id\n",
    "    new_image[\"id\"] = merged_id\n",
    "    merged_id+=1\n",
    "    merged_images.append(new_image)\n"
   ]
  },
  {
   "cell_type": "code",
   "execution_count": 51,
   "metadata": {},
   "outputs": [
    {
     "data": {
      "text/plain": [
       "{'file_name': 'js_9869.png', 'height': 240, 'width': 320, 'id': 0}"
      ]
     },
     "execution_count": 51,
     "metadata": {},
     "output_type": "execute_result"
    }
   ],
   "source": [
    "merged_images[0]"
   ]
  },
  {
   "cell_type": "code",
   "execution_count": 52,
   "metadata": {},
   "outputs": [],
   "source": [
    "for image in sim_data[\"images\"]:\n",
    "    new_image = image.copy()\n",
    "    new_image[\"file_name\"] = \"sim_\" + image[\"file_name\"]\n",
    "    #print(image[\"id\"])\n",
    "    sim_image_mapping[image[\"id\"]] = merged_id\n",
    "    new_image[\"id\"] = merged_id\n",
    "    merged_id+=1\n",
    "    merged_images.append(new_image)"
   ]
  },
  {
   "cell_type": "code",
   "execution_count": 53,
   "metadata": {},
   "outputs": [],
   "source": [
    "for image in real_data[\"images\"]:\n",
    "    new_image = image.copy()\n",
    "    new_image[\"file_name\"] = \"real_\" + image[\"file_name\"]\n",
    "    #print(image[\"id\"])\n",
    "    sim_image_mapping[image[\"id\"]] = merged_id\n",
    "    new_image[\"id\"] = merged_id\n",
    "    merged_id+=1\n",
    "    merged_images.append(new_image)"
   ]
  },
  {
   "cell_type": "code",
   "execution_count": 54,
   "metadata": {},
   "outputs": [
    {
     "data": {
      "text/plain": [
       "(10110, 9559, 500, 51)"
      ]
     },
     "execution_count": 54,
     "metadata": {},
     "output_type": "execute_result"
    }
   ],
   "source": [
    "len(merged_images), len(sim_images), len(js_images), len(real_images)"
   ]
  },
  {
   "cell_type": "code",
   "execution_count": null,
   "metadata": {},
   "outputs": [],
   "source": []
  },
  {
   "cell_type": "code",
   "execution_count": 55,
   "metadata": {},
   "outputs": [],
   "source": [
    "#js_data[\"annotations\"][0]"
   ]
  },
  {
   "cell_type": "code",
   "execution_count": 56,
   "metadata": {},
   "outputs": [
    {
     "name": "stdout",
     "output_type": "stream",
     "text": [
      "9520\n"
     ]
    }
   ],
   "source": [
    "merged_annotations = []\n",
    "annotation_id = 0\n",
    "for annotation in js_data[\"annotations\"]:\n",
    "    new_annotation = annotation.copy()\n",
    "    new_annotation[\"image_id\"] = js_image_mapping[annotation[\"image_id\"]]\n",
    "    new_annotation[\"id\"] = annotation_id\n",
    "    annotation_id+=1\n",
    "    merged_annotations.append(new_annotation)\n",
    "\n",
    "print(len(merged_annotations))"
   ]
  },
  {
   "cell_type": "code",
   "execution_count": null,
   "metadata": {},
   "outputs": [],
   "source": []
  },
  {
   "cell_type": "code",
   "execution_count": 57,
   "metadata": {},
   "outputs": [
    {
     "name": "stdout",
     "output_type": "stream",
     "text": [
      "141004\n"
     ]
    }
   ],
   "source": [
    "for annotation in sim_data[\"annotations\"]:\n",
    "    new_annotation = annotation.copy()\n",
    "    new_annotation[\"image_id\"] = sim_image_mapping[annotation[\"image_id\"]]\n",
    "    new_annotation[\"id\"] = annotation_id\n",
    "    annotation_id+=1\n",
    "    merged_annotations.append(new_annotation)\n",
    "print(len(merged_annotations))"
   ]
  },
  {
   "cell_type": "code",
   "execution_count": 58,
   "metadata": {},
   "outputs": [
    {
     "name": "stdout",
     "output_type": "stream",
     "text": [
      "141350\n"
     ]
    }
   ],
   "source": [
    "for annotation in real_data[\"annotations\"]:\n",
    "    new_annotation = annotation.copy()\n",
    "    new_annotation[\"image_id\"] = sim_image_mapping[annotation[\"image_id\"]]\n",
    "    new_annotation[\"id\"] = annotation_id\n",
    "    annotation_id+=1\n",
    "    merged_annotations.append(new_annotation)\n",
    "print(len(merged_annotations))"
   ]
  },
  {
   "cell_type": "code",
   "execution_count": null,
   "metadata": {},
   "outputs": [],
   "source": []
  },
  {
   "cell_type": "code",
   "execution_count": 59,
   "metadata": {},
   "outputs": [],
   "source": [
    "data={\"categories\":sim_data[\"categories\"], \"images\":merged_images,\"annotations\":merged_annotations}\n",
    "with open(f\"../data/duckie_merged_{split}.json\",\"w\") as f:\n",
    "    json.dump(data,f)"
   ]
  },
  {
   "cell_type": "code",
   "execution_count": 60,
   "metadata": {},
   "outputs": [],
   "source": [
    "import glob"
   ]
  },
  {
   "cell_type": "code",
   "execution_count": 246,
   "metadata": {},
   "outputs": [],
   "source": [
    "files = glob.glob(\"merged_dataset/rgb/*.jpg\")\n",
    "import shutil, os"
   ]
  },
  {
   "cell_type": "code",
   "execution_count": 247,
   "metadata": {},
   "outputs": [
    {
     "name": "stderr",
     "output_type": "stream",
     "text": [
      "100%|██████████| 69559/69559 [00:04<00:00, 14026.22it/s]\n"
     ]
    }
   ],
   "source": [
    "for file in tqdm(files):\n",
    "    basename = os.path.basename(file)\n",
    "    shutil.copy(file, f\"../data/dt_segmentation_dataset/merged/rgb/{basename}\")\n",
    "    "
   ]
  },
  {
   "cell_type": "code",
   "execution_count": null,
   "metadata": {},
   "outputs": [],
   "source": []
  }
 ],
 "metadata": {
  "kernelspec": {
   "display_name": "Python 3",
   "language": "python",
   "name": "python3"
  },
  "language_info": {
   "codemirror_mode": {
    "name": "ipython",
    "version": 3
   },
   "file_extension": ".py",
   "mimetype": "text/x-python",
   "name": "python",
   "nbconvert_exporter": "python",
   "pygments_lexer": "ipython3",
   "version": "3.8.3"
  }
 },
 "nbformat": 4,
 "nbformat_minor": 4
}

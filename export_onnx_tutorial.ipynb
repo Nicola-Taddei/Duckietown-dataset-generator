{
 "cells": [
  {
   "cell_type": "code",
   "execution_count": null,
   "metadata": {},
   "outputs": [],
   "source": []
  },
  {
   "cell_type": "code",
   "execution_count": 1,
   "metadata": {},
   "outputs": [],
   "source": [
    "# Copyright 2015 The TensorFlow Authors. All Rights Reserved.\n",
    "#\n",
    "# Licensed under the Apache License, Version 2.0 (the \"License\");\n",
    "# you may not use this file except in compliance with the License.\n",
    "# You may obtain a copy of the License at\n",
    "#\n",
    "#     http://www.apache.org/licenses/LICENSE-2.0\n",
    "#\n",
    "# Unless required by applicable law or agreed to in writing, software\n",
    "# distributed under the License is distributed on an \"AS IS\" BASIS,\n",
    "# WITHOUT WARRANTIES OR CONDITIONS OF ANY KIND, either express or implied.\n",
    "# See the License for the specific language governing permissions and\n",
    "# limitations under the License.\n",
    "# ==============================================================================\n",
    "\n",
    "\"\"\"A deep MNIST classifier using convolutional layers.\n",
    "See extensive documentation at\n",
    "https://www.tensorflow.org/get_started/mnist/pros\n",
    "\"\"\"\n",
    "# Disable linter warnings to maintain consistency with tutorial.\n",
    "# pylint: disable=invalid-name\n",
    "# pylint: disable=g-bad-import-order\n",
    "\n",
    "from __future__ import absolute_import\n",
    "from __future__ import division\n",
    "from __future__ import print_function\n",
    "\n",
    "import argparse\n",
    "import sys\n",
    "import os\n",
    "import shutil\n",
    "import tempfile\n",
    "\n",
    "import tensorflow as tf\n",
    "from tensorflow.examples.tutorials.mnist import input_data\n",
    "\n",
    "\n",
    "\n",
    "def add(x, y):\n",
    "    return tf.nn.bias_add(x, y, data_format=\"NHWC\")\n",
    "\n",
    "\n",
    "def deepnn(x):\n",
    "    \"\"\"deepnn builds the graph for a deep net for classifying digits.\n",
    "    Args:\n",
    "      x: an input tensor with the dimensions (N_examples, 784), where 784 is the\n",
    "      number of pixels in a standard MNIST image.\n",
    "    Returns:\n",
    "      A tuple (y, keep_prob). y is a tensor of shape (N_examples, 10), with values\n",
    "      equal to the logits of classifying the digit into one of 10 classes (the\n",
    "      digits 0-9). keep_prob is a scalar placeholder for the probability of dropout.\n",
    "    \"\"\"\n",
    "    # Reshape to use within a convolutional neural net.\n",
    "    # Last dimension is for \"features\" - there is only one here, since images are\n",
    "    # grayscale -- it would be 3 for an RGB image, 4 for RGBA, etc.\n",
    "    with tf.name_scope('reshape'):\n",
    "        x_image = tf.reshape(x, [-1, 1, 28, 28])\n",
    "    x_image = tf.transpose(x_image, [0, 2, 3, 1])\n",
    "\n",
    "    # First convolutional layer - maps one grayscale image to 32 feature maps.\n",
    "    with tf.name_scope('conv1'):\n",
    "        w_conv1 = weight_variable([5, 5, 1, 32])\n",
    "        b_conv1 = bias_variable([32])\n",
    "        h_conv1 = tf.nn.relu(add(conv2d(x_image, w_conv1), b_conv1))\n",
    "\n",
    "    # Pooling layer - downsamples by 2X.\n",
    "    with tf.name_scope('pool1'):\n",
    "        h_pool1 = max_pool_2x2(h_conv1)\n",
    "\n",
    "    # Second convolutional layer -- maps 32 feature maps to 64.\n",
    "    with tf.name_scope('conv2'):\n",
    "        w_conv2 = weight_variable([5, 5, 32, 64])\n",
    "        b_conv2 = bias_variable([64])\n",
    "        h_conv2 = tf.nn.relu(add(conv2d(h_pool1, w_conv2), b_conv2))\n",
    "\n",
    "    # Second pooling layer.\n",
    "    with tf.name_scope('pool2'):\n",
    "        h_pool2 = max_pool_2x2(h_conv2)\n",
    "\n",
    "    # Fully connected layer 1 -- after 2 round of downsampling, our 28x28 image\n",
    "    # is down to 7x7x64 feature maps -- maps this to 1024 features.\n",
    "    with tf.name_scope('fc1'):\n",
    "        w_fc1 = weight_variable([7 * 7 * 64, 1024])\n",
    "        b_fc1 = bias_variable([1024])\n",
    "\n",
    "        h_pool2_flat = tf.reshape(h_pool2, [-1, 7 * 7 * 64])\n",
    "        h_fc1 = tf.nn.relu(tf.matmul(h_pool2_flat, w_fc1) + b_fc1)\n",
    "\n",
    "    # Map the 1024 features to 10 classes, one for each digit\n",
    "    with tf.name_scope('fc2'):\n",
    "        w_fc2 = weight_variable([1024, 10])\n",
    "        b_fc2 = bias_variable([10])\n",
    "\n",
    "        y_conv = tf.matmul(h_fc1, w_fc2) + b_fc2\n",
    "\n",
    "    return y_conv\n",
    "\n",
    "\n",
    "def conv2d(x, w):\n",
    "    \"\"\"conv2d returns a 2d convolution layer with full stride.\"\"\"\n",
    "    return tf.nn.conv2d(x, w, strides=[1, 1, 1, 1], padding='SAME', data_format=\"NHWC\")\n",
    "\n",
    "\n",
    "def max_pool_2x2(x):\n",
    "    \"\"\"max_pool_2x2 downsamples a feature map by 2X.\"\"\"\n",
    "    return tf.nn.max_pool(x, ksize=[1, 2, 2, 1],\n",
    "                          strides=[1, 2, 2, 1], padding='SAME', data_format=\"NHWC\")\n",
    "\n",
    "\n",
    "def weight_variable(shape):\n",
    "    \"\"\"weight_variable generates a weight variable of a given shape.\"\"\"\n",
    "    initial = tf.truncated_normal(shape, stddev=0.1)\n",
    "    return tf.Variable(initial)\n",
    "\n",
    "\n",
    "def bias_variable(shape):\n",
    "    \"\"\"bias_variable generates a bias variable of a given shape.\"\"\"\n",
    "    initial = tf.constant(0.1, shape=shape)\n",
    "    return tf.Variable(initial)\n",
    "\n",
    "\n",
    "def create_and_train_mnist():\n",
    "    tf.logging.set_verbosity(tf.logging.ERROR)\n",
    "    os.environ['TF_CPP_MIN_LOG_LEVEL'] = '3'\n",
    "    # Import data\n",
    "    data_dir = r\"/tmp/tensorflow/mnist/input_data\"\n",
    "    mnist = input_data.read_data_sets(data_dir)\n",
    "    # Create the model\n",
    "    tf.reset_default_graph()\n",
    "    input_tensor = tf.placeholder(tf.float32, [None, 784], name=\"input\")\n",
    "    # Build the graph for the deep net\n",
    "    y_conv = deepnn(input_tensor)\n",
    "    output_tensor = tf.identity(y_conv, \"result\")\n",
    "    with open(\"./output/graph.proto\", \"wb\") as file:\n",
    "        graph = tf.get_default_graph().as_graph_def(add_shapes=True)\n",
    "        file.write(graph.SerializeToString())\n",
    "    # Define loss and optimizer\n",
    "    y_ = tf.placeholder(tf.int64, [None])\n",
    "    with tf.name_scope('loss'):\n",
    "        cross_entropy = tf.losses.sparse_softmax_cross_entropy(\n",
    "            labels=y_, logits=y_conv)\n",
    "    cross_entropy = tf.reduce_mean(cross_entropy)\n",
    "    with tf.name_scope('adam_optimizer'):\n",
    "        train_step = tf.train.AdamOptimizer(1e-4).minimize(cross_entropy)\n",
    "    with tf.name_scope('accuracy'):\n",
    "        correct_prediction = tf.equal(tf.argmax(y_conv, 1), y_)\n",
    "        correct_prediction = tf.cast(correct_prediction, tf.float32)\n",
    "    accuracy = tf.reduce_mean(correct_prediction)\n",
    "\n",
    "    saver = tf.train.Saver()\n",
    "\n",
    "    config = tf.ConfigProto()\n",
    "    config.gpu_options.allow_growth = True\n",
    "    sess = tf.Session(config=config)\n",
    "    sess.run(tf.global_variables_initializer())\n",
    "    for i in range(5000):\n",
    "        batch = mnist.train.next_batch(50)\n",
    "        if i % 1000 == 0:\n",
    "            train_accuracy = accuracy.eval(session=sess, feed_dict={input_tensor: batch[0], y_: batch[1]})\n",
    "            print('step %d, training accuracy %g' % (i, train_accuracy))\n",
    "        train_step.run(session=sess, feed_dict={input_tensor: batch[0], y_: batch[1]})\n",
    "\n",
    "    print('test accuracy %g' % accuracy.eval(session=sess, feed_dict={input_tensor: mnist.test.images[:1000], y_: mnist.test.labels[:1000]}))\n",
    "    return sess, saver, input_tensor, output_tensor\n",
    "\n",
    "def save_model_to_checkpoint(saver, sess):\n",
    "    print(\"save model to checkpoint\")\n",
    "    save_path = saver.save(sess, \"./output/ckpt/model.ckpt\")\n",
    "\n",
    "def save_model_to_frozen_proto(sess):\n",
    "    print('save model to frozen graph')\n",
    "    frozen_graph = tf.graph_util.convert_variables_to_constants(sess, sess.graph_def, [\"result\"])\n",
    "    with open(\"./output/mnist_frozen.pb\", \"wb\") as file:\n",
    "         file.write(frozen_graph.SerializeToString())\n",
    "\n",
    "def save_model_to_saved_model(sess, input_tensor, output_tensor):\n",
    "    print('save model to saved_model')\n",
    "    from tensorflow.saved_model import simple_save\n",
    "    save_path = r\"./output/saved_model\"\n",
    "    if os.path.exists(save_path):\n",
    "        shutil.rmtree(save_path)\n",
    "    simple_save(sess, save_path, {input_tensor.name: input_tensor}, {output_tensor.name: output_tensor})"
   ]
  },
  {
   "cell_type": "code",
   "execution_count": 10,
   "metadata": {},
   "outputs": [
    {
     "name": "stdout",
     "output_type": "stream",
     "text": [
      "WARNING:tensorflow:From /home/raphael/anaconda3/envs/tf1/lib/python3.6/site-packages/tf2onnx/verbose_logging.py:76: The name tf.logging.set_verbosity is deprecated. Please use tf.compat.v1.logging.set_verbosity instead.\n",
      "\n",
      "2020-12-05 17:25:39,808 - WARNING - From /home/raphael/anaconda3/envs/tf1/lib/python3.6/site-packages/tf2onnx/verbose_logging.py:76: The name tf.logging.set_verbosity is deprecated. Please use tf.compat.v1.logging.set_verbosity instead.\n",
      "\n",
      "2020-12-05 17:25:39,893 - WARNING - '--tag' not specified for saved_model. Using --tag serve\n",
      "2020-12-05 17:25:40,715 - INFO - Using tensorflow=1.15.0, onnx=1.8.0, tf2onnx=1.7.2/995bd6\n",
      "2020-12-05 17:25:40,715 - INFO - Using opset <onnx, 7>\n",
      "2020-12-05 17:25:40,792 - INFO - Computed 8 values for constant folding\n",
      "2020-12-05 17:25:41,013 - INFO - folding node using tf type=Identity, name=conv1/Variable/read\n",
      "2020-12-05 17:25:41,013 - INFO - folding node using tf type=Identity, name=conv1/Variable_1/read\n",
      "2020-12-05 17:25:41,013 - INFO - folding node using tf type=Identity, name=conv2/Variable/read\n",
      "2020-12-05 17:25:41,014 - INFO - folding node using tf type=Identity, name=conv2/Variable_1/read\n",
      "2020-12-05 17:25:41,014 - INFO - folding node using tf type=Identity, name=fc1/Variable/read\n",
      "2020-12-05 17:25:41,018 - INFO - folding node using tf type=Identity, name=fc1/Variable_1/read\n",
      "2020-12-05 17:25:41,018 - INFO - folding node using tf type=Identity, name=fc2/Variable/read\n",
      "2020-12-05 17:25:41,018 - INFO - folding node using tf type=Identity, name=fc2/Variable_1/read\n",
      "2020-12-05 17:25:41,029 - INFO - Optimizing ONNX model\n",
      "2020-12-05 17:25:41,186 - INFO - After optimization: Cast -2 (2->0), Const -1 (11->10), Identity -2 (2->0), Transpose -8 (9->1)\n",
      "2020-12-05 17:25:41,190 - INFO - \n",
      "2020-12-05 17:25:41,190 - INFO - Successfully converted TensorFlow model ./output/saved_model to ONNX\n",
      "2020-12-05 17:25:41,222 - INFO - ONNX model is saved at ./output/mnist1.onnx\n"
     ]
    }
   ],
   "source": [
    "# generating mnist.onnx using saved_model\n",
    "!python -m tf2onnx.convert --saved-model ./saved_model --output ./output/segmentation.onnx --opset 7"
   ]
  },
  {
   "cell_type": "code",
   "execution_count": 5,
   "metadata": {},
   "outputs": [
    {
     "name": "stdout",
     "output_type": "stream",
     "text": [
      "please wait for a while, because the script will train MNIST from scratch\n",
      "Extracting /tmp/tensorflow/mnist/input_data/train-images-idx3-ubyte.gz\n",
      "Extracting /tmp/tensorflow/mnist/input_data/train-labels-idx1-ubyte.gz\n",
      "Extracting /tmp/tensorflow/mnist/input_data/t10k-images-idx3-ubyte.gz\n",
      "Extracting /tmp/tensorflow/mnist/input_data/t10k-labels-idx1-ubyte.gz\n",
      "step 0, training accuracy 0.22\n",
      "step 1000, training accuracy 0.92\n",
      "step 2000, training accuracy 0.98\n",
      "step 3000, training accuracy 1\n",
      "step 4000, training accuracy 1\n",
      "test accuracy 0.975\n",
      "save tensorflow in format \"saved_model\"\n"
     ]
    }
   ],
   "source": [
    "import os\n",
    "import shutil\n",
    "import tensorflow as tf\n",
    "#from assets.tensorflow_to_onnx_example import create_and_train_mnist\n",
    "def save_model_to_saved_model(sess, input_tensor, output_tensor):\n",
    "    from tensorflow.saved_model import simple_save\n",
    "    save_path = r\"./output/saved_model\"\n",
    "    if os.path.exists(save_path):\n",
    "        shutil.rmtree(save_path)\n",
    "    simple_save(sess, save_path, {input_tensor.name: input_tensor}, {output_tensor.name: output_tensor})\n",
    "\n",
    "print(\"please wait for a while, because the script will train MNIST from scratch\")\n",
    "tf.reset_default_graph()\n",
    "sess_tf, saver, input_tensor, output_tensor = create_and_train_mnist()\n",
    "print(\"save tensorflow in format \\\"saved_model\\\"\")\n",
    "save_model_to_saved_model(sess_tf, input_tensor, output_tensor)"
   ]
  },
  {
   "cell_type": "code",
   "execution_count": 13,
   "metadata": {},
   "outputs": [
    {
     "name": "stdout",
     "output_type": "stream",
     "text": [
      "the expected result is \"7\"\n",
      "the digit is classified as \"7\" in ONNXRruntime\n"
     ]
    }
   ],
   "source": [
    "import numpy as np\n",
    "import onnxruntime as ort\n",
    "\n",
    "img = np.load(\"image.npz\").reshape([1, 784])  \n",
    "sess_ort = ort.InferenceSession(\"./output/mnist1.onnx\")\n",
    "res = sess_ort.run(output_names=[output_tensor.name], input_feed={input_tensor.name: img})\n",
    "print(\"the expected result is \\\"7\\\"\")\n",
    "print(\"the digit is classified as \\\"%s\\\" in ONNXRruntime\"%np.argmax(res))\n"
   ]
  },
  {
   "cell_type": "code",
   "execution_count": 27,
   "metadata": {},
   "outputs": [],
   "source": []
  },
  {
   "cell_type": "code",
   "execution_count": 56,
   "metadata": {},
   "outputs": [
    {
     "data": {
      "text/plain": [
       "32.45295281896217"
      ]
     },
     "execution_count": 56,
     "metadata": {},
     "output_type": "execute_result"
    }
   ],
   "source": [
    "sess_ort = ort.InferenceSession(\"./output/segmentation.onnx\")\n",
    "import time\n",
    "start = time.time()\n",
    "qty = 10\n",
    "for i in range(0,10):\n",
    "    res = sess_ort.run(output_names=[\"output:0\"], input_feed={\"input_rgb:0\": img.reshape((1,120,160,3))})\n",
    "end = time.time()\n",
    "delta=end-start\n",
    "seg = res[0]\n",
    "1/(delta/qty)"
   ]
  },
  {
   "cell_type": "code",
   "execution_count": 42,
   "metadata": {},
   "outputs": [
    {
     "data": {
      "text/plain": [
       "<matplotlib.image.AxesImage at 0x7f550552b9e8>"
      ]
     },
     "execution_count": 42,
     "metadata": {},
     "output_type": "execute_result"
    },
    {
     "data": {
      "image/png": "[encoded data removed]",
      "text/plain": [
       "<Figure size 432x288 with 1 Axes>"
      ]
     },
     "metadata": {
      "needs_background": "light"
     },
     "output_type": "display_data"
    }
   ],
   "source": [
    "from cv2_plt_imshow import cv2_plt_imshow\n",
    "seg = cv2.imread(f\"logs/segmentation_results/{image_num}_raw_prediction.png\",cv2.IMREAD_GRAYSCALE)\n",
    "yellow = (seg==1).astype(np.uint8)\n",
    "white = (seg==2).astype(np.uint8)\n",
    "cv2_plt_imshow(cv2.applyColorMap(seg*64, cv2.COLORMAP_JET))"
   ]
  },
  {
   "cell_type": "code",
   "execution_count": 29,
   "metadata": {},
   "outputs": [
    {
     "data": {
      "text/plain": [
       "('input_rgb:0', 'output:0')"
      ]
     },
     "execution_count": 29,
     "metadata": {},
     "output_type": "execute_result"
    }
   ],
   "source": [
    "input_name = sess_ort.get_inputs()[0].name\n",
    "output_name = sess_ort.get_outputs()[0].name\n",
    "input_name, output_name"
   ]
  },
  {
   "cell_type": "code",
   "execution_count": 32,
   "metadata": {},
   "outputs": [
    {
     "data": {
      "text/plain": [
       "[1, 120, 160, 3]"
      ]
     },
     "execution_count": 32,
     "metadata": {},
     "output_type": "execute_result"
    }
   ],
   "source": [
    "sess_ort.get_inputs()[0].shape"
   ]
  },
  {
   "cell_type": "code",
   "execution_count": null,
   "metadata": {},
   "outputs": [],
   "source": []
  }
 ],
 "metadata": {
  "kernelspec": {
   "display_name": "Python 3",
   "language": "python",
   "name": "python3"
  },
  "language_info": {
   "codemirror_mode": {
    "name": "ipython",
    "version": 3
   },
   "file_extension": ".py",
   "mimetype": "text/x-python",
   "name": "python",
   "nbconvert_exporter": "python",
   "pygments_lexer": "ipython3",
   "version": "3.6.12"
  }
 },
 "nbformat": 4,
 "nbformat_minor": 4
}
